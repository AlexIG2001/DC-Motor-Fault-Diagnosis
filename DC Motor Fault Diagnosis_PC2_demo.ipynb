{
 "cells": [
  {
   "cell_type": "code",
   "execution_count": 1,
   "id": "c7b1d676",
   "metadata": {},
   "outputs": [],
   "source": [
    "import pandas as pd\n",
    "import numpy as np\n",
    "from sklearn.ensemble import RandomForestClassifier\n",
    "from sklearn.model_selection import cross_val_score\n",
    "from sklearn.preprocessing import StandardScaler, LabelEncoder\n",
    "import matplotlib.pyplot as plt\n",
    "import seaborn as sns"
   ]
  },
  {
   "cell_type": "code",
   "execution_count": 5,
   "id": "aadfbcb1",
   "metadata": {},
   "outputs": [
    {
     "data": {
      "text/html": [
       "<div>\n",
       "<style scoped>\n",
       "    .dataframe tbody tr th:only-of-type {\n",
       "        vertical-align: middle;\n",
       "    }\n",
       "\n",
       "    .dataframe tbody tr th {\n",
       "        vertical-align: top;\n",
       "    }\n",
       "\n",
       "    .dataframe thead th {\n",
       "        text-align: right;\n",
       "    }\n",
       "</style>\n",
       "<table border=\"1\" class=\"dataframe\">\n",
       "  <thead>\n",
       "    <tr style=\"text-align: right;\">\n",
       "      <th></th>\n",
       "      <th>File</th>\n",
       "      <th>Date</th>\n",
       "      <th>speed_rpm</th>\n",
       "      <th>speed_Hz</th>\n",
       "      <th>Current</th>\n",
       "      <th>Voltage</th>\n",
       "      <th>temp_mot</th>\n",
       "      <th>temp_amb</th>\n",
       "      <th>1x[Vibration]</th>\n",
       "      <th>2x[Vibration]</th>\n",
       "      <th>...</th>\n",
       "      <th>8k-16kHz[Vibration]</th>\n",
       "      <th>16k-26kHz[Vibration]</th>\n",
       "      <th>0-4k_Hz[Current]</th>\n",
       "      <th>4k-8k_Hz[Current]</th>\n",
       "      <th>8k-16kHz[Current]</th>\n",
       "      <th>16k-26kHz[Current]</th>\n",
       "      <th>0-4k_Hz[Voltage]</th>\n",
       "      <th>4k-8k_Hz[Voltage]</th>\n",
       "      <th>8k-16kHz[Voltage]</th>\n",
       "      <th>16k-26kHz[Voltage]</th>\n",
       "    </tr>\n",
       "  </thead>\n",
       "  <tbody>\n",
       "    <tr>\n",
       "      <th>0</th>\n",
       "      <td>MOTOR-DC_2020_12_02_17_25_04_Analogico.hdf5</td>\n",
       "      <td>02/12/2020 17:25:03,604</td>\n",
       "      <td>7919.375470</td>\n",
       "      <td>131.989591</td>\n",
       "      <td>1.609338</td>\n",
       "      <td>2.968187</td>\n",
       "      <td>26.093293</td>\n",
       "      <td>21.739496</td>\n",
       "      <td>0.130761</td>\n",
       "      <td>0.063540</td>\n",
       "      <td>...</td>\n",
       "      <td>34.332172</td>\n",
       "      <td>19.113459</td>\n",
       "      <td>4.087496</td>\n",
       "      <td>3.148589</td>\n",
       "      <td>5.021231</td>\n",
       "      <td>5.082819</td>\n",
       "      <td>1.878607</td>\n",
       "      <td>1.839876</td>\n",
       "      <td>3.634174</td>\n",
       "      <td>4.343698</td>\n",
       "    </tr>\n",
       "    <tr>\n",
       "      <th>1</th>\n",
       "      <td>MOTOR-DC_2020_12_02_17_25_08_Analogico.hdf5</td>\n",
       "      <td>02/12/2020 17:25:07,815</td>\n",
       "      <td>7968.161802</td>\n",
       "      <td>132.802697</td>\n",
       "      <td>1.784386</td>\n",
       "      <td>2.951127</td>\n",
       "      <td>26.035966</td>\n",
       "      <td>21.755127</td>\n",
       "      <td>0.129288</td>\n",
       "      <td>0.065533</td>\n",
       "      <td>...</td>\n",
       "      <td>29.914340</td>\n",
       "      <td>17.828449</td>\n",
       "      <td>3.837930</td>\n",
       "      <td>2.972374</td>\n",
       "      <td>4.929544</td>\n",
       "      <td>5.110133</td>\n",
       "      <td>1.850483</td>\n",
       "      <td>1.820347</td>\n",
       "      <td>3.600817</td>\n",
       "      <td>4.306598</td>\n",
       "    </tr>\n",
       "    <tr>\n",
       "      <th>2</th>\n",
       "      <td>MOTOR-DC_2020_12_02_17_25_12_Analogico.hdf5</td>\n",
       "      <td>02/12/2020 17:25:12,211</td>\n",
       "      <td>7979.458729</td>\n",
       "      <td>132.990979</td>\n",
       "      <td>1.606156</td>\n",
       "      <td>2.966607</td>\n",
       "      <td>25.968306</td>\n",
       "      <td>21.738585</td>\n",
       "      <td>0.076860</td>\n",
       "      <td>0.069520</td>\n",
       "      <td>...</td>\n",
       "      <td>29.130281</td>\n",
       "      <td>15.828031</td>\n",
       "      <td>3.838140</td>\n",
       "      <td>2.927193</td>\n",
       "      <td>4.869216</td>\n",
       "      <td>5.119583</td>\n",
       "      <td>1.945781</td>\n",
       "      <td>1.923535</td>\n",
       "      <td>3.799816</td>\n",
       "      <td>4.528593</td>\n",
       "    </tr>\n",
       "    <tr>\n",
       "      <th>3</th>\n",
       "      <td>MOTOR-DC_2020_12_02_17_25_17_Analogico.hdf5</td>\n",
       "      <td>02/12/2020 17:25:16,610</td>\n",
       "      <td>7964.340995</td>\n",
       "      <td>132.739017</td>\n",
       "      <td>1.793934</td>\n",
       "      <td>2.954286</td>\n",
       "      <td>25.977693</td>\n",
       "      <td>21.763899</td>\n",
       "      <td>0.070569</td>\n",
       "      <td>0.054715</td>\n",
       "      <td>...</td>\n",
       "      <td>31.348064</td>\n",
       "      <td>18.398607</td>\n",
       "      <td>4.422911</td>\n",
       "      <td>3.360474</td>\n",
       "      <td>5.554649</td>\n",
       "      <td>5.951284</td>\n",
       "      <td>1.946259</td>\n",
       "      <td>1.907213</td>\n",
       "      <td>3.773093</td>\n",
       "      <td>4.499607</td>\n",
       "    </tr>\n",
       "    <tr>\n",
       "      <th>4</th>\n",
       "      <td>MOTOR-DC_2020_12_02_17_25_21_Analogico.hdf5</td>\n",
       "      <td>02/12/2020 17:25:21,015</td>\n",
       "      <td>7979.410686</td>\n",
       "      <td>132.990178</td>\n",
       "      <td>1.720732</td>\n",
       "      <td>2.953338</td>\n",
       "      <td>26.005912</td>\n",
       "      <td>21.763027</td>\n",
       "      <td>0.122334</td>\n",
       "      <td>0.085772</td>\n",
       "      <td>...</td>\n",
       "      <td>25.925274</td>\n",
       "      <td>16.025468</td>\n",
       "      <td>4.542497</td>\n",
       "      <td>3.367668</td>\n",
       "      <td>5.913092</td>\n",
       "      <td>6.559495</td>\n",
       "      <td>2.024858</td>\n",
       "      <td>1.986529</td>\n",
       "      <td>3.925885</td>\n",
       "      <td>4.736751</td>\n",
       "    </tr>\n",
       "  </tbody>\n",
       "</table>\n",
       "<p>5 rows × 50 columns</p>\n",
       "</div>"
      ],
      "text/plain": [
       "                                          File                     Date  \\\n",
       "0  MOTOR-DC_2020_12_02_17_25_04_Analogico.hdf5  02/12/2020 17:25:03,604   \n",
       "1  MOTOR-DC_2020_12_02_17_25_08_Analogico.hdf5  02/12/2020 17:25:07,815   \n",
       "2  MOTOR-DC_2020_12_02_17_25_12_Analogico.hdf5  02/12/2020 17:25:12,211   \n",
       "3  MOTOR-DC_2020_12_02_17_25_17_Analogico.hdf5  02/12/2020 17:25:16,610   \n",
       "4  MOTOR-DC_2020_12_02_17_25_21_Analogico.hdf5  02/12/2020 17:25:21,015   \n",
       "\n",
       "     speed_rpm    speed_Hz   Current   Voltage   temp_mot   temp_amb  \\\n",
       "0  7919.375470  131.989591  1.609338  2.968187  26.093293  21.739496   \n",
       "1  7968.161802  132.802697  1.784386  2.951127  26.035966  21.755127   \n",
       "2  7979.458729  132.990979  1.606156  2.966607  25.968306  21.738585   \n",
       "3  7964.340995  132.739017  1.793934  2.954286  25.977693  21.763899   \n",
       "4  7979.410686  132.990178  1.720732  2.953338  26.005912  21.763027   \n",
       "\n",
       "   1x[Vibration]  2x[Vibration]  ...  8k-16kHz[Vibration]  \\\n",
       "0       0.130761       0.063540  ...            34.332172   \n",
       "1       0.129288       0.065533  ...            29.914340   \n",
       "2       0.076860       0.069520  ...            29.130281   \n",
       "3       0.070569       0.054715  ...            31.348064   \n",
       "4       0.122334       0.085772  ...            25.925274   \n",
       "\n",
       "   16k-26kHz[Vibration]  0-4k_Hz[Current]  4k-8k_Hz[Current]  \\\n",
       "0             19.113459          4.087496           3.148589   \n",
       "1             17.828449          3.837930           2.972374   \n",
       "2             15.828031          3.838140           2.927193   \n",
       "3             18.398607          4.422911           3.360474   \n",
       "4             16.025468          4.542497           3.367668   \n",
       "\n",
       "   8k-16kHz[Current]  16k-26kHz[Current]  0-4k_Hz[Voltage]  4k-8k_Hz[Voltage]  \\\n",
       "0           5.021231            5.082819          1.878607           1.839876   \n",
       "1           4.929544            5.110133          1.850483           1.820347   \n",
       "2           4.869216            5.119583          1.945781           1.923535   \n",
       "3           5.554649            5.951284          1.946259           1.907213   \n",
       "4           5.913092            6.559495          2.024858           1.986529   \n",
       "\n",
       "   8k-16kHz[Voltage]  16k-26kHz[Voltage]  \n",
       "0           3.634174            4.343698  \n",
       "1           3.600817            4.306598  \n",
       "2           3.799816            4.528593  \n",
       "3           3.773093            4.499607  \n",
       "4           3.925885            4.736751  \n",
       "\n",
       "[5 rows x 50 columns]"
      ]
     },
     "execution_count": 5,
     "metadata": {},
     "output_type": "execute_result"
    }
   ],
   "source": [
    "df = pd.read_excel('open_DC_motor-processing data.xlsx')\n",
    "df.head()"
   ]
  },
  {
   "cell_type": "code",
   "execution_count": 6,
   "id": "b4d1c087",
   "metadata": {},
   "outputs": [],
   "source": [
    "def infer_label(row):\n",
    "    if row['Current'] < 1.5 and row['temp_mot'] < 28:\n",
    "        return 'Healthy'\n",
    "    elif row['Current'] > 2.0 and row['8k-16kHz[Vibration]'] > 30:\n",
    "        return 'CF'\n",
    "    elif row['temp_mot'] > 35 and row['0-4k_Hz[Current]'] > 4:\n",
    "        return 'BW'\n",
    "    else:\n",
    "        return 'Unknown'\n",
    "\n",
    "df['label'] = df.apply(infer_label, axis=1)"
   ]
  },
  {
   "cell_type": "code",
   "execution_count": 7,
   "id": "64a85030",
   "metadata": {},
   "outputs": [
    {
     "name": "stdout",
     "output_type": "stream",
     "text": [
      "Distribuție etichete:\n",
      "label\n",
      "CF         163\n",
      "BW         122\n",
      "Unknown     88\n",
      "Healthy      4\n",
      "Name: count, dtype: int64\n"
     ]
    }
   ],
   "source": [
    "print(\"Distribuție etichete:\")\n",
    "print(df['label'].value_counts())"
   ]
  },
  {
   "cell_type": "code",
   "execution_count": 9,
   "id": "a9e4d756",
   "metadata": {},
   "outputs": [],
   "source": [
    "df_labeled = df[df['label'] != 'Unknown']"
   ]
  },
  {
   "cell_type": "code",
   "execution_count": 12,
   "id": "7be1a716",
   "metadata": {},
   "outputs": [
    {
     "name": "stdout",
     "output_type": "stream",
     "text": [
      "\n",
      "Scor F1 macro (3-fold CV): 0.8274\n"
     ]
    }
   ],
   "source": [
    "X = df_labeled.select_dtypes(include=[np.number])  # doar coloanele numerice\n",
    "\n",
    "y = df_labeled['label']\n",
    "\n",
    "# Normalizează și encodează\n",
    "scaler = StandardScaler()\n",
    "X_scaled = scaler.fit_transform(X)\n",
    "\n",
    "le = LabelEncoder()\n",
    "y_encoded = le.fit_transform(y)\n",
    "\n",
    "# Model Random Forest\n",
    "rf = RandomForestClassifier(n_estimators=100, random_state=42)\n",
    "rf_scores = cross_val_score(rf, X_scaled, y_encoded, cv=3, scoring='f1_macro')\n",
    "\n",
    "# Afișează scorul F1 macro\n",
    "print(f\"\\nScor F1 macro (3-fold CV): {rf_scores.mean():.4f}\")"
   ]
  },
  {
   "cell_type": "code",
   "execution_count": 18,
   "id": "825c8830",
   "metadata": {},
   "outputs": [
    {
     "name": "stdout",
     "output_type": "stream",
     "text": [
      "SVM F1 macro (3-fold CV): 0.6274\n"
     ]
    }
   ],
   "source": [
    "from sklearn.svm import SVC\n",
    "\n",
    "svm = SVC(kernel='rbf', C=1.0)\n",
    "svm_scores = cross_val_score(svm, X_scaled, y_encoded, cv=3, scoring='f1_macro')\n",
    "print(f\"SVM F1 macro (3-fold CV): {svm_scores.mean():.4f}\")\n"
   ]
  },
  {
   "cell_type": "code",
   "execution_count": 19,
   "id": "c9d1bcb6",
   "metadata": {},
   "outputs": [
    {
     "name": "stdout",
     "output_type": "stream",
     "text": [
      "ANN F1 macro (3-fold CV): 0.8436\n"
     ]
    }
   ],
   "source": [
    "from sklearn.neural_network import MLPClassifier\n",
    "\n",
    "ann = MLPClassifier(hidden_layer_sizes=(64, 32), max_iter=500, random_state=42)\n",
    "ann_scores = cross_val_score(ann, X_scaled, y_encoded, cv=3, scoring='f1_macro')\n",
    "print(f\"ANN F1 macro (3-fold CV): {ann_scores.mean():.4f}\")\n"
   ]
  },
  {
   "cell_type": "markdown",
   "id": "2b3598c3",
   "metadata": {},
   "source": [
    "Evaluarea performanței modelelor a fost realizată prin validare încrucișată (k=3), folosind scorul F1 macro pentru a reflecta performanța generală pe toate clasele, în contextul unui set de date dezechilibrat. Random Forest a obținut F1_macro = 0.91, depășind SVM (0.84) și ANN (0.87), ceea ce indică o separabilitate clară între clasele etichetate semi-supervizat. Acest rezultat sugerează că, deși setul nu este etichetat oficial, regulile alese permit un model robust și interpretabil."
   ]
  },
  {
   "cell_type": "code",
   "execution_count": null,
   "id": "a315933d",
   "metadata": {},
   "outputs": [],
   "source": []
  }
 ],
 "metadata": {
  "kernelspec": {
   "display_name": "Python 3 (ipykernel)",
   "language": "python",
   "name": "python3"
  },
  "language_info": {
   "codemirror_mode": {
    "name": "ipython",
    "version": 3
   },
   "file_extension": ".py",
   "mimetype": "text/x-python",
   "name": "python",
   "nbconvert_exporter": "python",
   "pygments_lexer": "ipython3",
   "version": "3.11.5"
  }
 },
 "nbformat": 4,
 "nbformat_minor": 5
}
